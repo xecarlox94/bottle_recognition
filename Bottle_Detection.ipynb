{
 "cells": [
  {
   "cell_type": "code",
   "execution_count": 15,
   "id": "62f18124-e04f-4d05-badf-a34ce93f2e25",
   "metadata": {
    "tags": []
   },
   "outputs": [],
   "source": [
    "import pandas as pd"
   ]
  },
  {
   "cell_type": "code",
   "execution_count": 14,
   "id": "66ca7f11-1a71-4216-8fb6-f60ff3ff1c01",
   "metadata": {
    "tags": []
   },
   "outputs": [
    {
     "data": {
      "application/vnd.jupyter.widget-view+json": {
       "model_id": "fe4bef4fc0ef4f898cfa76d08ce20844",
       "version_major": 2,
       "version_minor": 0
      },
      "text/plain": [
       "Downloading artifacts:   0%|          | 0/6 [00:00<?, ?it/s]"
      ]
     },
     "metadata": {},
     "output_type": "display_data"
    },
    {
     "name": "stderr",
     "output_type": "stream",
     "text": [
      "2023/12/07 14:41:26 WARNING mlflow.pyfunc: Detected one or more mismatches between the model's dependencies and the current Python environment:\n",
      " - mlflow (current: 2.8.1, required: mlflow==2.9.0)\n",
      " - cloudpickle (current: 2.2.1, required: cloudpickle==3.0.0)\n",
      " - ipython (current: 8.12.2, required: ipython==8.18.1)\n",
      " - matplotlib (current: 3.7.3, required: matplotlib==3.8.2)\n",
      " - numpy (current: 1.24.4, required: numpy==1.26.2)\n",
      " - opencv-python (current: 4.6.0, required: opencv-python==4.8.1.78)\n",
      " - packaging (current: 23.1, required: packaging==23.2)\n",
      " - pandas (current: 2.0.3, required: pandas==2.1.3)\n",
      " - psutil (current: 5.9.5, required: psutil==5.9.6)\n",
      " - thop (current: uninstalled, required: thop==0.1.1-2209072238)\n",
      " - tqdm (current: 4.65.0, required: tqdm==4.66.1)\n",
      "To fix the mismatches, call `mlflow.pyfunc.get_model_dependencies(model_uri)` to fetch the model's environment and install dependencies using the resulting environment file.\n",
      "2023/12/07 14:41:26 WARNING mlflow.pyfunc: The version of Python that the model was saved in, `Python 3.10.12`, differs from the version of Python that is currently running, `Python 3.8.18`, and may be incompatible\n"
     ]
    },
    {
     "ename": "ValueError",
     "evalue": "DataFrame constructor not properly called!",
     "output_type": "error",
     "traceback": [
      "\u001b[0;31m---------------------------------------------------------------------------\u001b[0m",
      "\u001b[0;31mValueError\u001b[0m                                Traceback (most recent call last)",
      "\u001b[0;32m/tmp/ipykernel_12904/3700713811.py\u001b[0m in \u001b[0;36m?\u001b[0;34m()\u001b[0m\n\u001b[0;32m----> 9\u001b[0;31m \u001b[0;32mimport\u001b[0m \u001b[0mmlflow\u001b[0m\u001b[0;34m\u001b[0m\u001b[0;34m\u001b[0m\u001b[0m\n\u001b[0m\u001b[1;32m     10\u001b[0m \u001b[0mlogged_model\u001b[0m \u001b[0;34m=\u001b[0m \u001b[0;34m'runs:/0e7d186fd32c42b6820aaa59fc6d4928/runs/Model'\u001b[0m\u001b[0;34m\u001b[0m\u001b[0;34m\u001b[0m\u001b[0m\n\u001b[1;32m     11\u001b[0m \u001b[0;34m\u001b[0m\u001b[0m\n\u001b[1;32m     12\u001b[0m \u001b[0;31m# Load model as a PyFuncModel.\u001b[0m\u001b[0;34m\u001b[0m\u001b[0;34m\u001b[0m\u001b[0;34m\u001b[0m\u001b[0m\n",
      "\u001b[0;32m~/anaconda3/envs/ultralytics-env/lib/python3.8/site-packages/pandas/core/frame.py\u001b[0m in \u001b[0;36m?\u001b[0;34m(self, data, index, columns, dtype, copy)\u001b[0m\n\u001b[1;32m    813\u001b[0m                 )\n\u001b[1;32m    814\u001b[0m         \u001b[0;31m# For data is scalar\u001b[0m\u001b[0;34m\u001b[0m\u001b[0;34m\u001b[0m\u001b[0;34m\u001b[0m\u001b[0m\n\u001b[1;32m    815\u001b[0m         \u001b[0;32melse\u001b[0m\u001b[0;34m:\u001b[0m\u001b[0;34m\u001b[0m\u001b[0;34m\u001b[0m\u001b[0m\n\u001b[1;32m    816\u001b[0m             \u001b[0;32mif\u001b[0m \u001b[0mindex\u001b[0m \u001b[0;32mis\u001b[0m \u001b[0;32mNone\u001b[0m \u001b[0;32mor\u001b[0m \u001b[0mcolumns\u001b[0m \u001b[0;32mis\u001b[0m \u001b[0;32mNone\u001b[0m\u001b[0;34m:\u001b[0m\u001b[0;34m\u001b[0m\u001b[0;34m\u001b[0m\u001b[0m\n\u001b[0;32m--> 817\u001b[0;31m                 \u001b[0;32mraise\u001b[0m \u001b[0mValueError\u001b[0m\u001b[0;34m(\u001b[0m\u001b[0;34m\"DataFrame constructor not properly called!\"\u001b[0m\u001b[0;34m)\u001b[0m\u001b[0;34m\u001b[0m\u001b[0;34m\u001b[0m\u001b[0m\n\u001b[0m\u001b[1;32m    818\u001b[0m \u001b[0;34m\u001b[0m\u001b[0m\n\u001b[1;32m    819\u001b[0m             \u001b[0mindex\u001b[0m \u001b[0;34m=\u001b[0m \u001b[0mensure_index\u001b[0m\u001b[0;34m(\u001b[0m\u001b[0mindex\u001b[0m\u001b[0;34m)\u001b[0m\u001b[0;34m\u001b[0m\u001b[0;34m\u001b[0m\u001b[0m\n\u001b[1;32m    820\u001b[0m             \u001b[0mcolumns\u001b[0m \u001b[0;34m=\u001b[0m \u001b[0mensure_index\u001b[0m\u001b[0;34m(\u001b[0m\u001b[0mcolumns\u001b[0m\u001b[0;34m)\u001b[0m\u001b[0;34m\u001b[0m\u001b[0;34m\u001b[0m\u001b[0m\n",
      "\u001b[0;31mValueError\u001b[0m: DataFrame constructor not properly called!"
     ]
    }
   ],
   "source": [
    "# Predict on a Pandas DataFrame.\n",
    "loaded_model.predict(pd.DataFrame(img))"
   ]
  },
  {
   "cell_type": "code",
   "execution_count": 23,
   "id": "3c9c7a42-9af9-4a5f-bf67-7493aa91fca6",
   "metadata": {
    "tags": []
   },
   "outputs": [
    {
     "data": {
      "application/vnd.jupyter.widget-view+json": {
       "model_id": "060fb24003e4495ba9441a542fdc0770",
       "version_major": 2,
       "version_minor": 0
      },
      "text/plain": [
       "Downloading artifacts:   0%|          | 0/6 [00:00<?, ?it/s]"
      ]
     },
     "metadata": {},
     "output_type": "display_data"
    },
    {
     "name": "stderr",
     "output_type": "stream",
     "text": [
      "2023/12/07 14:50:43 WARNING mlflow.pyfunc: Detected one or more mismatches between the model's dependencies and the current Python environment:\n",
      " - mlflow (current: 2.8.1, required: mlflow==2.9.0)\n",
      " - cloudpickle (current: 2.2.1, required: cloudpickle==3.0.0)\n",
      " - ipython (current: 8.12.2, required: ipython==8.18.1)\n",
      " - matplotlib (current: 3.7.3, required: matplotlib==3.8.2)\n",
      " - numpy (current: 1.24.4, required: numpy==1.26.2)\n",
      " - opencv-python (current: 4.6.0, required: opencv-python==4.8.1.78)\n",
      " - packaging (current: 23.1, required: packaging==23.2)\n",
      " - pandas (current: 2.0.3, required: pandas==2.1.3)\n",
      " - psutil (current: 5.9.5, required: psutil==5.9.6)\n",
      " - thop (current: uninstalled, required: thop==0.1.1-2209072238)\n",
      " - tqdm (current: 4.65.0, required: tqdm==4.66.1)\n",
      "To fix the mismatches, call `mlflow.pyfunc.get_model_dependencies(model_uri)` to fetch the model's environment and install dependencies using the resulting environment file.\n",
      "2023/12/07 14:50:43 WARNING mlflow.pyfunc: The version of Python that the model was saved in, `Python 3.10.12`, differs from the version of Python that is currently running, `Python 3.8.18`, and may be incompatible\n"
     ]
    }
   ],
   "source": [
    "import mlflow\n",
    "logged_model = 'runs:/38b3518df2344a1f982f09d6e71f63a2/runs/Model'\n",
    "\n",
    "# Load model as a PyFuncModel.\n",
    "loaded_model = mlflow.pyfunc.load_model(logged_model)\n"
   ]
  },
  {
   "cell_type": "code",
   "execution_count": 19,
   "id": "376cbfd0-5d80-42af-873a-ddd1923d179d",
   "metadata": {
    "tags": []
   },
   "outputs": [
    {
     "data": {
      "image/jpeg": "[encoded data removed]",
      "image/png": "[encoded data removed]",
      "text/plain": [
       "<PIL.JpegImagePlugin.JpegImageFile image mode=RGB size=235x214>"
      ]
     },
     "execution_count": 19,
     "metadata": {},
     "output_type": "execute_result"
    }
   ],
   "source": [
    "from PIL import Image\n",
    "\n",
    "img = Image.open(\"Untitled.jpeg\")\n",
    "img"
   ]
  },
  {
   "cell_type": "code",
   "execution_count": 20,
   "id": "b65e195f-1e61-4ecc-81fa-71b18519f5b0",
   "metadata": {
    "tags": []
   },
   "outputs": [
    {
     "data": {
      "text/plain": [
       "torch.Size([3, 214, 235])"
      ]
     },
     "execution_count": 20,
     "metadata": {},
     "output_type": "execute_result"
    }
   ],
   "source": [
    "import torch\n",
    "from torchvision import transforms\n",
    "convert_tensor = transforms.ToTensor()\n",
    "convert_tensor(img).shape"
   ]
  },
  {
   "cell_type": "code",
   "execution_count": 21,
   "id": "8ecca7e1-baad-4485-a42d-2619467404c6",
   "metadata": {
    "tags": []
   },
   "outputs": [
    {
     "name": "stdout",
     "output_type": "stream",
     "text": [
      "torch.Size([1, 3, 640, 640])\n"
     ]
    }
   ],
   "source": [
    "# Define the transformation\n",
    "data_transform = transforms.Compose([\n",
    "    transforms.Resize((640, 640)),\n",
    "    transforms.ToTensor(),  # Converts the image to a tensor with values in the range [0, 1]\n",
    "])\n",
    "\n",
    "# Apply the transformation\n",
    "tensor_image = data_transform(img)\n",
    "\n",
    "tensor_image = (tensor_image * 255).byte()\n",
    "\n",
    "# Add batch dimension\n",
    "tensor_image = tensor_image.unsqueeze(0)\n",
    "\n",
    "# Ensure the tensor is of type uint8 and has the correct shape\n",
    "assert tensor_image.dtype == torch.uint8\n",
    "assert tensor_image.shape == torch.Size([1, 3, 640, 640])\n",
    "\n",
    "# Display the tensor shape\n",
    "print(tensor_image.shape)"
   ]
  },
  {
   "cell_type": "code",
   "execution_count": 24,
   "id": "a5988234-3792-469d-b56c-8c60940efb09",
   "metadata": {
    "tags": []
   },
   "outputs": [
    {
     "ename": "MlflowException",
     "evalue": "This model contains a tensor-based model signature with no input names, which suggests a numpy array input or a pandas dataframe input with proper column values, but an input of type <class 'torch.Tensor'> was found.",
     "output_type": "error",
     "traceback": [
      "\u001b[0;31m---------------------------------------------------------------------------\u001b[0m",
      "\u001b[0;31mMlflowException\u001b[0m                           Traceback (most recent call last)",
      "Cell \u001b[0;32mIn[24], line 1\u001b[0m\n\u001b[0;32m----> 1\u001b[0m \u001b[43mloaded_model\u001b[49m\u001b[38;5;241;43m.\u001b[39;49m\u001b[43mpredict\u001b[49m\u001b[43m(\u001b[49m\u001b[43mtensor_image\u001b[49m\u001b[43m)\u001b[49m\n",
      "File \u001b[0;32m~/anaconda3/envs/ultralytics-env/lib/python3.8/site-packages/mlflow/pyfunc/__init__.py:468\u001b[0m, in \u001b[0;36mPyFuncModel.predict\u001b[0;34m(self, data, params)\u001b[0m\n\u001b[1;32m    466\u001b[0m input_schema \u001b[38;5;241m=\u001b[39m \u001b[38;5;28mself\u001b[39m\u001b[38;5;241m.\u001b[39mmetadata\u001b[38;5;241m.\u001b[39mget_input_schema()\n\u001b[1;32m    467\u001b[0m \u001b[38;5;28;01mif\u001b[39;00m input_schema \u001b[38;5;129;01mis\u001b[39;00m \u001b[38;5;129;01mnot\u001b[39;00m \u001b[38;5;28;01mNone\u001b[39;00m:\n\u001b[0;32m--> 468\u001b[0m     data \u001b[38;5;241m=\u001b[39m \u001b[43m_enforce_schema\u001b[49m\u001b[43m(\u001b[49m\u001b[43mdata\u001b[49m\u001b[43m,\u001b[49m\u001b[43m \u001b[49m\u001b[43minput_schema\u001b[49m\u001b[43m)\u001b[49m\n\u001b[1;32m    470\u001b[0m params \u001b[38;5;241m=\u001b[39m _validate_params(params, \u001b[38;5;28mself\u001b[39m\u001b[38;5;241m.\u001b[39mmetadata)\n\u001b[1;32m    472\u001b[0m \u001b[38;5;28;01mdef\u001b[39;00m \u001b[38;5;21m_predict\u001b[39m():\n\u001b[1;32m    473\u001b[0m     \u001b[38;5;66;03m# Models saved prior to MLflow 2.5.0 do not support `params` in the pyfunc `predict()`\u001b[39;00m\n\u001b[1;32m    474\u001b[0m     \u001b[38;5;66;03m# function definition, nor do they support `**kwargs`. Accordingly, we only pass\u001b[39;00m\n\u001b[1;32m    475\u001b[0m     \u001b[38;5;66;03m# `params` to the `predict()` method if it defines the `params` argument\u001b[39;00m\n",
      "File \u001b[0;32m~/anaconda3/envs/ultralytics-env/lib/python3.8/site-packages/mlflow/models/utils.py:852\u001b[0m, in \u001b[0;36m_enforce_schema\u001b[0;34m(pf_input, input_schema)\u001b[0m\n\u001b[1;32m    845\u001b[0m         \u001b[38;5;28;01mraise\u001b[39;00m MlflowException(\n\u001b[1;32m    846\u001b[0m             \u001b[38;5;124m\"\u001b[39m\u001b[38;5;124mModel inference is missing inputs. The model signature declares \u001b[39m\u001b[38;5;124m\"\u001b[39m\n\u001b[1;32m    847\u001b[0m             \u001b[38;5;124m\"\u001b[39m\u001b[38;5;132;01m{}\u001b[39;00m\u001b[38;5;124m inputs  but the provided value only has \u001b[39m\u001b[38;5;124m\"\u001b[39m\n\u001b[1;32m    848\u001b[0m             \u001b[38;5;124m\"\u001b[39m\u001b[38;5;132;01m{}\u001b[39;00m\u001b[38;5;124m inputs. Note: the inputs were not named in the signature so we can \u001b[39m\u001b[38;5;124m\"\u001b[39m\n\u001b[1;32m    849\u001b[0m             \u001b[38;5;124m\"\u001b[39m\u001b[38;5;124monly verify their count.\u001b[39m\u001b[38;5;124m\"\u001b[39m\u001b[38;5;241m.\u001b[39mformat(\u001b[38;5;28mlen\u001b[39m(input_schema\u001b[38;5;241m.\u001b[39minputs), num_actual_columns)\n\u001b[1;32m    850\u001b[0m         )\n\u001b[1;32m    851\u001b[0m \u001b[38;5;28;01mif\u001b[39;00m input_schema\u001b[38;5;241m.\u001b[39mis_tensor_spec():\n\u001b[0;32m--> 852\u001b[0m     \u001b[38;5;28;01mreturn\u001b[39;00m \u001b[43m_enforce_tensor_schema\u001b[49m\u001b[43m(\u001b[49m\u001b[43mpf_input\u001b[49m\u001b[43m,\u001b[49m\u001b[43m \u001b[49m\u001b[43minput_schema\u001b[49m\u001b[43m)\u001b[49m\n\u001b[1;32m    853\u001b[0m \u001b[38;5;28;01melif\u001b[39;00m input_schema\u001b[38;5;241m.\u001b[39mhas_input_names():\n\u001b[1;32m    854\u001b[0m     \u001b[38;5;28;01mreturn\u001b[39;00m _enforce_named_col_schema(pf_input, input_schema)\n",
      "File \u001b[0;32m~/anaconda3/envs/ultralytics-env/lib/python3.8/site-packages/mlflow/models/utils.py:725\u001b[0m, in \u001b[0;36m_enforce_tensor_schema\u001b[0;34m(pf_input, input_schema)\u001b[0m\n\u001b[1;32m    723\u001b[0m         new_pf_input \u001b[38;5;241m=\u001b[39m _enforce_tensor_spec(pf_input, tensor_spec)\n\u001b[1;32m    724\u001b[0m     \u001b[38;5;28;01melse\u001b[39;00m:\n\u001b[0;32m--> 725\u001b[0m         \u001b[38;5;28;01mraise\u001b[39;00m MlflowException(\n\u001b[1;32m    726\u001b[0m             \u001b[38;5;124m\"\u001b[39m\u001b[38;5;124mThis model contains a tensor-based model signature with no input names,\u001b[39m\u001b[38;5;124m\"\u001b[39m\n\u001b[1;32m    727\u001b[0m             \u001b[38;5;124m\"\u001b[39m\u001b[38;5;124m which suggests a numpy array input or a pandas dataframe input with\u001b[39m\u001b[38;5;124m\"\u001b[39m\n\u001b[1;32m    728\u001b[0m             \u001b[38;5;124mf\u001b[39m\u001b[38;5;124m\"\u001b[39m\u001b[38;5;124m proper column values, but an input of type \u001b[39m\u001b[38;5;132;01m{\u001b[39;00m\u001b[38;5;28mtype\u001b[39m(pf_input)\u001b[38;5;132;01m}\u001b[39;00m\u001b[38;5;124m was found.\u001b[39m\u001b[38;5;124m\"\u001b[39m,\n\u001b[1;32m    729\u001b[0m             error_code\u001b[38;5;241m=\u001b[39mINVALID_PARAMETER_VALUE,\n\u001b[1;32m    730\u001b[0m         )\n\u001b[1;32m    731\u001b[0m \u001b[38;5;28;01mreturn\u001b[39;00m new_pf_input\n",
      "\u001b[0;31mMlflowException\u001b[0m: This model contains a tensor-based model signature with no input names, which suggests a numpy array input or a pandas dataframe input with proper column values, but an input of type <class 'torch.Tensor'> was found."
     ]
    }
   ],
   "source": [
    "loaded_model.predict(tensor_image)"
   ]
  },
  {
   "cell_type": "code",
   "execution_count": 1,
   "id": "646b1d35",
   "metadata": {},
   "outputs": [],
   "source": [
    "import mlflow\n",
    "from ultralytics import YOLO\n",
    "import torch\n",
    "\n",
    "\n",
    "mlflow.set_tracking_uri(\"http://13.43.219.126:8080\")"
   ]
  },
  {
   "cell_type": "code",
   "execution_count": 2,
   "id": "bbc7357d",
   "metadata": {},
   "outputs": [
    {
     "data": {
      "text/plain": [
       "True"
      ]
     },
     "execution_count": 2,
     "metadata": {},
     "output_type": "execute_result"
    }
   ],
   "source": [
    "torch.cuda.is_available()"
   ]
  },
  {
   "cell_type": "code",
   "execution_count": 3,
   "id": "3326016f",
   "metadata": {},
   "outputs": [
    {
     "name": "stdout",
     "output_type": "stream",
     "text": [
      "💡 Learn about settings at https://docs.ultralytics.com/quickstart/#ultralytics-settings\n",
      "Printing '\u001b[1m\u001b[30m/home/coena98/.config/Ultralytics/settings.yaml\u001b[0m'\n",
      "\n",
      "settings_version: 0.0.4\n",
      "datasets_dir: /home/coena98/bottle_recognition\n",
      "weights_dir: weights\n",
      "runs_dir: runs\n",
      "uuid: 1ec19f3fc54af313a146e743714a99b29633d7d90519346de20ffc8a09a3a474\n",
      "sync: true\n",
      "api_key: ''\n",
      "clearml: true\n",
      "comet: true\n",
      "dvc: true\n",
      "hub: true\n",
      "mlflow: true\n",
      "neptune: true\n",
      "raytune: true\n",
      "tensorboard: true\n",
      "wandb: true\n",
      "\n"
     ]
    }
   ],
   "source": [
    "!yolo setting datasets_dir=$PWD"
   ]
  },
  {
   "cell_type": "code",
   "execution_count": 4,
   "id": "52b001b3",
   "metadata": {
    "scrolled": true
   },
   "outputs": [
    {
     "name": "stdout",
     "output_type": "stream",
     "text": [
      "loading Roboflow workspace...\n",
      "loading Roboflow project...\n",
      "Dependency ultralytics==8.0.196 is required but found version=8.0.219, to fix: `pip install ultralytics==8.0.196`\n"
     ]
    },
    {
     "name": "stderr",
     "output_type": "stream",
     "text": [
      "Downloading Dataset Version Zip in detect-1 to yolov8:: 100%|█| 516523/516523 [0"
     ]
    },
    {
     "name": "stdout",
     "output_type": "stream",
     "text": [
      "\n"
     ]
    },
    {
     "name": "stderr",
     "output_type": "stream",
     "text": [
      "\n",
      "Extracting Dataset Version Zip to detect-1 in yolov8:: 100%|█| 29430/29430 [00:0\n"
     ]
    }
   ],
   "source": [
    "from roboflow import Roboflow\n",
    "rf = Roboflow(api_key=\"llgtjSRbLz3hdjjaUEfb\")\n",
    "project = rf.workspace(\"erkan-unal\").project(\"detect-o9dby\")\n",
    "\n",
    "\n",
    "dataset = project.version(1).download(\"yolov8\")\n",
    "\n"
   ]
  },
  {
   "cell_type": "code",
   "execution_count": 5,
   "id": "3d304119-c76d-4956-8f3f-c82383be7d51",
   "metadata": {},
   "outputs": [],
   "source": [
    "!sed -i \"s/detect-1/../g\" detect-1/data.yaml"
   ]
  },
  {
   "cell_type": "code",
   "execution_count": 6,
   "id": "7443710d",
   "metadata": {},
   "outputs": [],
   "source": [
    "model = YOLO('yolov8n.pt')"
   ]
  },
  {
   "cell_type": "code",
   "execution_count": 7,
   "id": "d7901296",
   "metadata": {},
   "outputs": [],
   "source": [
    "dataset_yaml = dataset.location+'/data.yaml'\n"
   ]
  },
  {
   "cell_type": "code",
   "execution_count": 8,
   "id": "ee397775",
   "metadata": {},
   "outputs": [
    {
     "name": "stdout",
     "output_type": "stream",
     "text": [
      "New https://pypi.org/project/ultralytics/8.0.222 available 😃 Update with 'pip install -U ultralytics'\n",
      "Ultralytics YOLOv8.0.219 🚀 Python-3.8.18 torch-2.1.1 CUDA:0 (NVIDIA GeForce RTX 3070 Ti Laptop GPU, 7974MiB)\n",
      "\u001b[34m\u001b[1mengine/trainer: \u001b[0mtask=detect, mode=train, model=yolov8n.pt, data=/home/coena98/bottle_recognition/detect-1/data.yaml, epochs=1, patience=50, batch=8, imgsz=640, save=True, save_period=-1, cache=False, device=0, workers=8, project=None, name=train, exist_ok=False, pretrained=True, optimizer=auto, verbose=True, seed=0, deterministic=True, single_cls=False, rect=False, cos_lr=False, close_mosaic=10, resume=False, amp=True, fraction=1.0, profile=False, freeze=None, overlap_mask=True, mask_ratio=4, dropout=0.0, val=True, split=val, save_json=False, save_hybrid=False, conf=None, iou=0.7, max_det=300, half=False, dnn=False, plots=True, source=None, vid_stride=1, stream_buffer=False, visualize=False, augment=False, agnostic_nms=False, classes=None, retina_masks=False, show=False, save_frames=False, save_txt=False, save_conf=False, save_crop=False, show_labels=True, show_conf=True, show_boxes=True, line_width=None, format=torchscript, keras=False, optimize=False, int8=False, dynamic=False, simplify=False, opset=None, workspace=4, nms=False, lr0=0.01, lrf=0.01, momentum=0.937, weight_decay=0.0005, warmup_epochs=3.0, warmup_momentum=0.8, warmup_bias_lr=0.1, box=7.5, cls=0.5, dfl=1.5, pose=12.0, kobj=1.0, label_smoothing=0.0, nbs=64, hsv_h=0.015, hsv_s=0.7, hsv_v=0.4, degrees=0.0, translate=0.1, scale=0.5, shear=0.0, perspective=0.0, flipud=0.0, fliplr=0.5, mosaic=1.0, mixup=0.0, copy_paste=0.0, cfg=None, tracker=botsort.yaml, save_dir=runs/detect/train\n",
      "Overriding model.yaml nc=80 with nc=2\n",
      "\n",
      "                   from  n    params  module                                       arguments                     \n",
      "  0                  -1  1       464  ultralytics.nn.modules.conv.Conv             [3, 16, 3, 2]                 \n",
      "  1                  -1  1      4672  ultralytics.nn.modules.conv.Conv             [16, 32, 3, 2]                \n",
      "  2                  -1  1      7360  ultralytics.nn.modules.block.C2f             [32, 32, 1, True]             \n",
      "  3                  -1  1     18560  ultralytics.nn.modules.conv.Conv             [32, 64, 3, 2]                \n",
      "  4                  -1  2     49664  ultralytics.nn.modules.block.C2f             [64, 64, 2, True]             \n",
      "  5                  -1  1     73984  ultralytics.nn.modules.conv.Conv             [64, 128, 3, 2]               \n",
      "  6                  -1  2    197632  ultralytics.nn.modules.block.C2f             [128, 128, 2, True]           \n",
      "  7                  -1  1    295424  ultralytics.nn.modules.conv.Conv             [128, 256, 3, 2]              \n",
      "  8                  -1  1    460288  ultralytics.nn.modules.block.C2f             [256, 256, 1, True]           \n",
      "  9                  -1  1    164608  ultralytics.nn.modules.block.SPPF            [256, 256, 5]                 \n",
      " 10                  -1  1         0  torch.nn.modules.upsampling.Upsample         [None, 2, 'nearest']          \n",
      " 11             [-1, 6]  1         0  ultralytics.nn.modules.conv.Concat           [1]                           \n",
      " 12                  -1  1    148224  ultralytics.nn.modules.block.C2f             [384, 128, 1]                 \n",
      " 13                  -1  1         0  torch.nn.modules.upsampling.Upsample         [None, 2, 'nearest']          \n",
      " 14             [-1, 4]  1         0  ultralytics.nn.modules.conv.Concat           [1]                           \n",
      " 15                  -1  1     37248  ultralytics.nn.modules.block.C2f             [192, 64, 1]                  \n",
      " 16                  -1  1     36992  ultralytics.nn.modules.conv.Conv             [64, 64, 3, 2]                \n",
      " 17            [-1, 12]  1         0  ultralytics.nn.modules.conv.Concat           [1]                           \n",
      " 18                  -1  1    123648  ultralytics.nn.modules.block.C2f             [192, 128, 1]                 \n",
      " 19                  -1  1    147712  ultralytics.nn.modules.conv.Conv             [128, 128, 3, 2]              \n",
      " 20             [-1, 9]  1         0  ultralytics.nn.modules.conv.Concat           [1]                           \n",
      " 21                  -1  1    493056  ultralytics.nn.modules.block.C2f             [384, 256, 1]                 \n",
      " 22        [15, 18, 21]  1    751702  ultralytics.nn.modules.head.Detect           [2, [64, 128, 256]]           \n",
      "Model summary: 225 layers, 3011238 parameters, 3011222 gradients\n",
      "\n",
      "Transferred 319/355 items from pretrained weights\n",
      "Freezing layer 'model.22.dfl.conv.weight'\n",
      "\u001b[34m\u001b[1mAMP: \u001b[0mrunning Automatic Mixed Precision (AMP) checks with YOLOv8n...\n",
      "\u001b[34m\u001b[1mAMP: \u001b[0mchecks passed ✅\n"
     ]
    },
    {
     "name": "stderr",
     "output_type": "stream",
     "text": [
      "\u001b[34m\u001b[1mtrain: \u001b[0mScanning /home/coena98/bottle_recognition/detect-1/train/labels... 10515 \u001b[0m"
     ]
    },
    {
     "name": "stdout",
     "output_type": "stream",
     "text": [
      "\u001b[34m\u001b[1mtrain: \u001b[0mWARNING ⚠️ /home/coena98/bottle_recognition/detect-1/train/images/02_03_2020_14_48_39_jpeg.rf.e4a248f5cb036571cb56bfb8c6923da2.jpg: 1 duplicate labels removed\n",
      "\u001b[34m\u001b[1mtrain: \u001b[0mWARNING ⚠️ /home/coena98/bottle_recognition/detect-1/train/images/plasticbottle81_jpeg.rf.f7289a7e2c79a7fb20c5b977ad39e5c6.jpg: 1 duplicate labels removed\n"
     ]
    },
    {
     "name": "stderr",
     "output_type": "stream",
     "text": [
      "\n"
     ]
    },
    {
     "name": "stdout",
     "output_type": "stream",
     "text": [
      "\u001b[34m\u001b[1mtrain: \u001b[0mNew cache created: /home/coena98/bottle_recognition/detect-1/train/labels.cache\n",
      "WARNING ⚠️ Box and segment counts should be equal, but got len(segments) = 4094, len(boxes) = 11605. To resolve this only boxes will be used and all segments will be removed. To avoid this please supply either a detect or segment dataset, not a detect-segment mixed dataset.\n"
     ]
    },
    {
     "name": "stderr",
     "output_type": "stream",
     "text": [
      "\u001b[34m\u001b[1mval: \u001b[0mScanning /home/coena98/bottle_recognition/detect-1/valid/labels... 2557 ima\u001b[0m"
     ]
    },
    {
     "name": "stdout",
     "output_type": "stream",
     "text": [
      "\u001b[34m\u001b[1mval: \u001b[0mNew cache created: /home/coena98/bottle_recognition/detect-1/valid/labels.cache\n",
      "WARNING ⚠️ Box and segment counts should be equal, but got len(segments) = 1186, len(boxes) = 2752. To resolve this only boxes will be used and all segments will be removed. To avoid this please supply either a detect or segment dataset, not a detect-segment mixed dataset.\n"
     ]
    },
    {
     "name": "stderr",
     "output_type": "stream",
     "text": [
      "\n"
     ]
    },
    {
     "name": "stdout",
     "output_type": "stream",
     "text": [
      "Plotting labels to runs/detect/train/labels.jpg... \n",
      "\u001b[34m\u001b[1moptimizer:\u001b[0m 'optimizer=auto' found, ignoring 'lr0=0.01' and 'momentum=0.937' and determining best 'optimizer', 'lr0' and 'momentum' automatically... \n",
      "\u001b[34m\u001b[1moptimizer:\u001b[0m AdamW(lr=0.001667, momentum=0.9) with parameter groups 57 weight(decay=0.0), 64 weight(decay=0.0005), 63 bias(decay=0.0)\n"
     ]
    },
    {
     "name": "stderr",
     "output_type": "stream",
     "text": [
      "2023/12/06 16:37:07 INFO mlflow.tracking.fluent: Autologging successfully enabled for statsmodels.\n"
     ]
    },
    {
     "name": "stdout",
     "output_type": "stream",
     "text": [
      "\u001b[34m\u001b[1mMLflow: \u001b[0mlogging run_id(daa2a35054a44374b2253b4b9ba8f0d5) to http://13.43.219.126:8080\n",
      "\u001b[34m\u001b[1mMLflow: \u001b[0mdisable with 'yolo settings mlflow=False'\n",
      "Image sizes 640 train, 640 val\n",
      "Using 8 dataloader workers\n",
      "Logging results to \u001b[1mruns/detect/train\u001b[0m\n",
      "Starting training for 1 epochs...\n",
      "\n",
      "      Epoch    GPU_mem   box_loss   cls_loss   dfl_loss  Instances       Size\n"
     ]
    },
    {
     "name": "stderr",
     "output_type": "stream",
     "text": [
      "        1/1      1.24G      1.151      2.326      1.494          5        640: 1\n",
      "                 Class     Images  Instances      Box(P          R      mAP50  m\n"
     ]
    },
    {
     "name": "stdout",
     "output_type": "stream",
     "text": [
      "                   all       2557       2752      0.367      0.402      0.348      0.191\n",
      "\n",
      "1 epochs completed in 0.024 hours.\n",
      "Optimizer stripped from runs/detect/train/weights/last.pt, 6.2MB\n",
      "Optimizer stripped from runs/detect/train/weights/best.pt, 6.2MB\n",
      "\n",
      "Validating runs/detect/train/weights/best.pt...\n",
      "Ultralytics YOLOv8.0.219 🚀 Python-3.8.18 torch-2.1.1 CUDA:0 (NVIDIA GeForce RTX 3070 Ti Laptop GPU, 7974MiB)\n",
      "Model summary (fused): 168 layers, 3006038 parameters, 0 gradients\n"
     ]
    },
    {
     "name": "stderr",
     "output_type": "stream",
     "text": [
      "                 Class     Images  Instances      Box(P          R      mAP50  m\n"
     ]
    },
    {
     "name": "stdout",
     "output_type": "stream",
     "text": [
      "                   all       2557       2752      0.366      0.402      0.348      0.191\n",
      "          glass-bottle       2557       1526      0.358      0.474      0.418      0.233\n",
      "        plastic-bottle       2557       1226      0.375       0.33      0.278      0.149\n",
      "Speed: 0.2ms preprocess, 1.4ms inference, 0.0ms loss, 0.4ms postprocess per image\n",
      "Results saved to \u001b[1mruns/detect/train\u001b[0m\n",
      "\u001b[34m\u001b[1mMLflow: \u001b[0mresults logged to http://13.43.219.126:8080\n",
      "\u001b[34m\u001b[1mMLflow: \u001b[0mdisable with 'yolo settings mlflow=False'\n",
      "daa2a35054a44374b2253b4b9ba8f0d5\n"
     ]
    }
   ],
   "source": [
    "with mlflow.start_run() as run: \n",
    "    model.train(data=dataset_yaml, epochs=1, imgsz=640, device=0, batch=8)\n",
    "    \n",
    "    mlflow.pyfunc.log_model(\n",
    "        artifact_path='runs/detect/train/weights',\n",
    "        conda_env='conda.yaml',\n",
    "        loader_module=dataset_yaml,\n",
    "        input_example='/home/coena98/bottle_recognition/Untitled.jpeg'\n",
    "    )\n",
    "    \n",
    "    print(run.info.run_id)"
   ]
  },
  {
   "cell_type": "code",
   "execution_count": 9,
   "id": "51c0dd35",
   "metadata": {},
   "outputs": [
    {
     "data": {
      "text/plain": [
       "<RunInfo: artifact_uri='mlflow-artifacts:/0/daa2a35054a44374b2253b4b9ba8f0d5/artifacts', end_time=None, experiment_id='0', lifecycle_stage='active', run_id='daa2a35054a44374b2253b4b9ba8f0d5', run_name='hilarious-cow-440', run_uuid='daa2a35054a44374b2253b4b9ba8f0d5', start_time=1701880618211, status='RUNNING', user_id='coena98'>"
      ]
     },
     "execution_count": 9,
     "metadata": {},
     "output_type": "execute_result"
    }
   ],
   "source": [
    "run_id=run.info.run_id\n",
    "run.info\n"
   ]
  },
  {
   "cell_type": "code",
   "execution_count": 11,
   "id": "49db3fb3-16b8-49ef-83a0-93170c3d82ff",
   "metadata": {},
   "outputs": [
    {
     "name": "stderr",
     "output_type": "stream",
     "text": [
      "Distutils was imported before Setuptools, but importing Setuptools also replaces the `distutils` module in `sys.modules`. This may lead to undesirable behaviors or errors. To avoid these issues, avoid using distutils directly, ensure that setuptools is installed in the traditional way (e.g. not an editable install), and/or make sure that setuptools is always imported before distutils.\n",
      "Setuptools is replacing distutils.\n"
     ]
    },
    {
     "data": {
      "text/plain": [
       "<mlflow.models.model.ModelInfo at 0x7f9bf238cfd0>"
      ]
     },
     "execution_count": 11,
     "metadata": {},
     "output_type": "execute_result"
    }
   ],
   "source": [
    "mlflow.pyfunc.log_model(\n",
    "    artifact_path='runs/detect/train/weights',\n",
    "    conda_env='conda.yaml',\n",
    "    loader_module=dataset_yaml,\n",
    "    input_example='/home/coena98/bottle_recognition/Untitled.jpeg'\n",
    ")"
   ]
  },
  {
   "cell_type": "code",
   "execution_count": 13,
   "id": "dd5dee46-b956-4f81-b6c2-d8978f99910b",
   "metadata": {
    "tags": []
   },
   "outputs": [
    {
     "data": {
      "text/plain": [
       "'/home/coena98/bottle_recognition/detect-1/data.yaml'"
      ]
     },
     "execution_count": 13,
     "metadata": {},
     "output_type": "execute_result"
    }
   ],
   "source": [
    "dataset_yaml"
   ]
  },
  {
   "cell_type": "code",
   "execution_count": 12,
   "id": "333fde15-1f0b-4701-9475-d4ad7db9f5e9",
   "metadata": {
    "tags": []
   },
   "outputs": [
    {
     "data": {
      "application/vnd.jupyter.widget-view+json": {
       "model_id": "cddb40575b234295a9da5e644b252b7d",
       "version_major": 2,
       "version_minor": 0
      },
      "text/plain": [
       "Downloading artifacts:   0%|          | 0/5 [00:00<?, ?it/s]"
      ]
     },
     "metadata": {},
     "output_type": "display_data"
    },
    {
     "ename": "ModuleNotFoundError",
     "evalue": "No module named '/home/coena98/bottle_recognition/detect-1/data'",
     "output_type": "error",
     "traceback": [
      "\u001b[0;31m---------------------------------------------------------------------------\u001b[0m",
      "\u001b[0;31mModuleNotFoundError\u001b[0m                       Traceback (most recent call last)",
      "Cell \u001b[0;32mIn[12], line 5\u001b[0m\n\u001b[1;32m      2\u001b[0m logged_model \u001b[38;5;241m=\u001b[39m \u001b[38;5;124m'\u001b[39m\u001b[38;5;124mruns:/81a93a9626d147faa7264237aabd464d/runs/detect/train/weights\u001b[39m\u001b[38;5;124m'\u001b[39m\n\u001b[1;32m      4\u001b[0m \u001b[38;5;66;03m# Load model as a PyFuncModel.\u001b[39;00m\n\u001b[0;32m----> 5\u001b[0m loaded_model \u001b[38;5;241m=\u001b[39m \u001b[43mmlflow\u001b[49m\u001b[38;5;241;43m.\u001b[39;49m\u001b[43mpyfunc\u001b[49m\u001b[38;5;241;43m.\u001b[39;49m\u001b[43mload_model\u001b[49m\u001b[43m(\u001b[49m\u001b[43mlogged_model\u001b[49m\u001b[43m)\u001b[49m\n",
      "File \u001b[0;32m~/anaconda3/envs/ultralytics-env/lib/python3.8/site-packages/mlflow/pyfunc/__init__.py:688\u001b[0m, in \u001b[0;36mload_model\u001b[0;34m(model_uri, suppress_warnings, dst_path, model_config)\u001b[0m\n\u001b[1;32m    681\u001b[0m     \u001b[38;5;28;01mif\u001b[39;00m conf[MAIN] \u001b[38;5;241m==\u001b[39m _DATABRICKS_FS_LOADER_MODULE:\n\u001b[1;32m    682\u001b[0m         \u001b[38;5;28;01mraise\u001b[39;00m MlflowException(\n\u001b[1;32m    683\u001b[0m             \u001b[38;5;124m\"\u001b[39m\u001b[38;5;124mmlflow.pyfunc.load_model is not supported for Feature Store models. \u001b[39m\u001b[38;5;124m\"\u001b[39m\n\u001b[1;32m    684\u001b[0m             \u001b[38;5;124m\"\u001b[39m\u001b[38;5;124mspark_udf() and predict() will not work as expected. Use \u001b[39m\u001b[38;5;124m\"\u001b[39m\n\u001b[1;32m    685\u001b[0m             \u001b[38;5;124m\"\u001b[39m\u001b[38;5;124mscore_batch for offline predictions.\u001b[39m\u001b[38;5;124m\"\u001b[39m,\n\u001b[1;32m    686\u001b[0m             BAD_REQUEST,\n\u001b[1;32m    687\u001b[0m         ) \u001b[38;5;28;01mfrom\u001b[39;00m \u001b[38;5;28;01mNone\u001b[39;00m\n\u001b[0;32m--> 688\u001b[0m     \u001b[38;5;28;01mraise\u001b[39;00m e\n\u001b[1;32m    689\u001b[0m predict_fn \u001b[38;5;241m=\u001b[39m conf\u001b[38;5;241m.\u001b[39mget(\u001b[38;5;124m\"\u001b[39m\u001b[38;5;124mpredict_fn\u001b[39m\u001b[38;5;124m\"\u001b[39m, \u001b[38;5;124m\"\u001b[39m\u001b[38;5;124mpredict\u001b[39m\u001b[38;5;124m\"\u001b[39m)\n\u001b[1;32m    690\u001b[0m \u001b[38;5;28;01mreturn\u001b[39;00m PyFuncModel(model_meta\u001b[38;5;241m=\u001b[39mmodel_meta, model_impl\u001b[38;5;241m=\u001b[39mmodel_impl, predict_fn\u001b[38;5;241m=\u001b[39mpredict_fn)\n",
      "File \u001b[0;32m~/anaconda3/envs/ultralytics-env/lib/python3.8/site-packages/mlflow/pyfunc/__init__.py:679\u001b[0m, in \u001b[0;36mload_model\u001b[0;34m(model_uri, suppress_warnings, dst_path, model_config)\u001b[0m\n\u001b[1;32m    677\u001b[0m         model_impl \u001b[38;5;241m=\u001b[39m importlib\u001b[38;5;241m.\u001b[39mimport_module(conf[MAIN])\u001b[38;5;241m.\u001b[39m_load_pyfunc(data_path, model_config)\n\u001b[1;32m    678\u001b[0m     \u001b[38;5;28;01melse\u001b[39;00m:\n\u001b[0;32m--> 679\u001b[0m         model_impl \u001b[38;5;241m=\u001b[39m \u001b[43mimportlib\u001b[49m\u001b[38;5;241;43m.\u001b[39;49m\u001b[43mimport_module\u001b[49m\u001b[43m(\u001b[49m\u001b[43mconf\u001b[49m\u001b[43m[\u001b[49m\u001b[43mMAIN\u001b[49m\u001b[43m]\u001b[49m\u001b[43m)\u001b[49m\u001b[38;5;241m.\u001b[39m_load_pyfunc(data_path)\n\u001b[1;32m    680\u001b[0m \u001b[38;5;28;01mexcept\u001b[39;00m \u001b[38;5;167;01mModuleNotFoundError\u001b[39;00m \u001b[38;5;28;01mas\u001b[39;00m e:\n\u001b[1;32m    681\u001b[0m     \u001b[38;5;28;01mif\u001b[39;00m conf[MAIN] \u001b[38;5;241m==\u001b[39m _DATABRICKS_FS_LOADER_MODULE:\n",
      "File \u001b[0;32m~/anaconda3/envs/ultralytics-env/lib/python3.8/importlib/__init__.py:127\u001b[0m, in \u001b[0;36mimport_module\u001b[0;34m(name, package)\u001b[0m\n\u001b[1;32m    125\u001b[0m             \u001b[38;5;28;01mbreak\u001b[39;00m\n\u001b[1;32m    126\u001b[0m         level \u001b[38;5;241m+\u001b[39m\u001b[38;5;241m=\u001b[39m \u001b[38;5;241m1\u001b[39m\n\u001b[0;32m--> 127\u001b[0m \u001b[38;5;28;01mreturn\u001b[39;00m \u001b[43m_bootstrap\u001b[49m\u001b[38;5;241;43m.\u001b[39;49m\u001b[43m_gcd_import\u001b[49m\u001b[43m(\u001b[49m\u001b[43mname\u001b[49m\u001b[43m[\u001b[49m\u001b[43mlevel\u001b[49m\u001b[43m:\u001b[49m\u001b[43m]\u001b[49m\u001b[43m,\u001b[49m\u001b[43m \u001b[49m\u001b[43mpackage\u001b[49m\u001b[43m,\u001b[49m\u001b[43m \u001b[49m\u001b[43mlevel\u001b[49m\u001b[43m)\u001b[49m\n",
      "File \u001b[0;32m<frozen importlib._bootstrap>:1014\u001b[0m, in \u001b[0;36m_gcd_import\u001b[0;34m(name, package, level)\u001b[0m\n",
      "File \u001b[0;32m<frozen importlib._bootstrap>:991\u001b[0m, in \u001b[0;36m_find_and_load\u001b[0;34m(name, import_)\u001b[0m\n",
      "File \u001b[0;32m<frozen importlib._bootstrap>:961\u001b[0m, in \u001b[0;36m_find_and_load_unlocked\u001b[0;34m(name, import_)\u001b[0m\n",
      "File \u001b[0;32m<frozen importlib._bootstrap>:219\u001b[0m, in \u001b[0;36m_call_with_frames_removed\u001b[0;34m(f, *args, **kwds)\u001b[0m\n",
      "File \u001b[0;32m<frozen importlib._bootstrap>:1014\u001b[0m, in \u001b[0;36m_gcd_import\u001b[0;34m(name, package, level)\u001b[0m\n",
      "File \u001b[0;32m<frozen importlib._bootstrap>:991\u001b[0m, in \u001b[0;36m_find_and_load\u001b[0;34m(name, import_)\u001b[0m\n",
      "File \u001b[0;32m<frozen importlib._bootstrap>:973\u001b[0m, in \u001b[0;36m_find_and_load_unlocked\u001b[0;34m(name, import_)\u001b[0m\n",
      "\u001b[0;31mModuleNotFoundError\u001b[0m: No module named '/home/coena98/bottle_recognition/detect-1/data'"
     ]
    }
   ],
   "source": [
    "import mlflow\n",
    "logged_model = 'runs:/81a93a9626d147faa7264237aabd464d/runs/detect/train/weights'\n",
    "\n",
    "# Load model as a PyFuncModel.\n",
    "loaded_model = mlflow.pyfunc.load_model(logged_model)\n"
   ]
  },
  {
   "cell_type": "code",
   "execution_count": 11,
   "id": "81e9d5c3-a398-442e-b2df-9c6343f4fe43",
   "metadata": {
    "tags": []
   },
   "outputs": [],
   "source": [
    "model_best = YOLO('runs/detect/train/weights/best.pt')"
   ]
  },
  {
   "cell_type": "code",
   "execution_count": null,
   "id": "4a75c4b3-c24f-40da-a315-8056f5185959",
   "metadata": {
    "tags": []
   },
   "outputs": [],
   "source": [
    "mlflow.pyfunc.log_model(artifact_path='runs/detect/train/weights',conda_env='conda.yaml',loader_module=dataset_yaml,input_example='/home/coena98/bottle_recognition/Untitled.jpeg')"
   ]
  },
  {
   "cell_type": "code",
   "execution_count": null,
   "id": "957059ef-2f84-4c4b-a1ba-a890b1cf914d",
   "metadata": {
    "tags": []
   },
   "outputs": [],
   "source": [
    "model.predict('Untitled.jpeg', save=True)"
   ]
  },
  {
   "cell_type": "code",
   "execution_count": null,
   "id": "c1007c8f-62ff-4208-a79d-4f2c36e02e6d",
   "metadata": {
    "tags": []
   },
   "outputs": [],
   "source": [
    "print(model)\n"
   ]
  },
  {
   "cell_type": "code",
   "execution_count": null,
   "id": "fad96ad7-3538-41a6-9866-1f982153eb0c",
   "metadata": {
    "tags": []
   },
   "outputs": [],
   "source": [
    "import pickle\n",
    "filename = '/runs/detect/train/weights/best.pt'\n",
    "pickle.dump(model, open(filename, 'wb'))"
   ]
  },
  {
   "cell_type": "code",
   "execution_count": null,
   "id": "560140a8-15cd-48dd-bc83-37e1689f0642",
   "metadata": {
    "tags": []
   },
   "outputs": [],
   "source": [
    "first_parameter = next(model.parameters())\n",
    "input_shape = first_parameter.size()\n",
    "first_parameter"
   ]
  },
  {
   "cell_type": "code",
   "execution_count": null,
   "id": "2ff5f45e-e9ba-4e81-bf11-121873d518f9",
   "metadata": {
    "tags": []
   },
   "outputs": [],
   "source": [
    "first_parameter.size()"
   ]
  },
  {
   "cell_type": "code",
   "execution_count": null,
   "id": "58cd5e63-0ae6-4202-a918-17b5ebb14833",
   "metadata": {
    "tags": []
   },
   "outputs": [],
   "source": [
    "# Get the X_train data\n",
    "X_train = model.model.model[-1] # This is the last layer of the model, which is the output layer\n",
    "\n",
    "# Print the shape of the X_train data\n",
    "print(X_train.shape)"
   ]
  },
  {
   "cell_type": "code",
   "execution_count": null,
   "id": "3a788b1d-0598-4952-9cf2-974aa361ead1",
   "metadata": {
    "tags": []
   },
   "outputs": [],
   "source": [
    "# Get the input schema\n",
    "input_schema = model.model.model[-1].shape\n",
    "\n",
    "# Get the output schema\n",
    "output_schema = model.model.model[-1].shape\n",
    "\n",
    "print(f\"Input schema: {input_schema}\")\n",
    "print(f\"Output schema: {output_schema}\")"
   ]
  },
  {
   "cell_type": "code",
   "execution_count": null,
   "id": "74f089ab-eb3a-4203-8675-0cb4da95c8b3",
   "metadata": {
    "tags": []
   },
   "outputs": [],
   "source": [
    "from mlflow.models.signature import ModelSignature\n",
    "from mlflow.types.schema import Schema, ColSpec\n",
    "input_schema = Schema([\n",
    "    ColSpec(\"image\", \"tensor\", size=[3, 640, 640]),  # Channels, Height, Width\n",
    "])\n",
    "\n",
    "# Define the output schema\n",
    "output_schema = Schema([\n",
    "    ColSpec(\"bounding_boxes\", \"tensor\", shape=[None, 6]),  # Batch size, Attributes per bounding box\n",
    "])\n",
    "\n",
    "# Create the model signature\n",
    "signature = ModelSignature(inputs=input_schema, outputs=output_schema)"
   ]
  },
  {
   "cell_type": "code",
   "execution_count": null,
   "id": "a6108a69-69bd-40d1-86c3-036dccfd8405",
   "metadata": {
    "tags": []
   },
   "outputs": [],
   "source": [
    "import numpy as np\n",
    "from mlflow.models import ModelSignature, infer_signature\n",
    "from mlflow.types.schema import Schema, TensorSpec\n",
    "input_schema = Schema(\n",
    "    [\n",
    "        TensorSpec(np.dtype(np.float64), (-1, 640, 640, 3)),\n",
    "    ]\n",
    ")\n",
    "\n",
    "output_schema = Schema([TensorSpec(np.dtype(np.float32), (-1, 10))])\n",
    "\n",
    "signature = ModelSignature(inputs=input_schema, outputs=output_schema)"
   ]
  },
  {
   "cell_type": "code",
   "execution_count": null,
   "id": "ac5512be-87f0-46e9-99ec-4ec51abbc2a9",
   "metadata": {
    "tags": []
   },
   "outputs": [],
   "source": [
    "signature\n"
   ]
  },
  {
   "cell_type": "code",
   "execution_count": null,
   "id": "b47b4886-d8cb-4f3d-aa3a-9f613cc2b97e",
   "metadata": {
    "tags": []
   },
   "outputs": [],
   "source": [
    "model.model.model[-1]"
   ]
  },
  {
   "cell_type": "code",
   "execution_count": null,
   "id": "3fb68155-ec16-4d5e-8c5f-fe0809b19a2f",
   "metadata": {
    "tags": []
   },
   "outputs": [],
   "source": [
    "with mlflow.start_run.ipynb_checkpoints/:\n",
    "    mlflowpy.pytorch.log_model(model, \"model\", signature=signature)"
   ]
  },
  {
   "cell_type": "code",
   "execution_count": null,
   "id": "f62f0eda",
   "metadata": {},
   "outputs": [],
   "source": [
    "run.to_dictionary()"
   ]
  },
  {
   "cell_type": "code",
   "execution_count": null,
   "id": "8a87639c-ba4e-4beb-831d-700b6f574f84",
   "metadata": {},
   "outputs": [],
   "source": [
    "pytorch_model = mlflow.pytorch.load_model(\"runs:/\" + run_id + \"/\" + model_path_dir)"
   ]
  },
  {
   "cell_type": "code",
   "execution_count": null,
   "id": "9b2a80d9-53c6-4e5d-a2b5-7e92e1c431ca",
   "metadata": {
    "tags": []
   },
   "outputs": [],
   "source": [
    "#https://mlflow.org/docs/latest/python_api/mlflow.pytorch.html#mlflow.pytorch.log_model"
   ]
  },
  {
   "cell_type": "code",
   "execution_count": null,
   "id": "80b2fa8e",
   "metadata": {},
   "outputs": [],
   "source": [
    "from mlflow.models import infer_signature"
   ]
  },
  {
   "cell_type": "code",
   "execution_count": null,
   "id": "0b7accb2-8ded-4bb0-98ac-4541c714ad5e",
   "metadata": {
    "tags": []
   },
   "outputs": [],
   "source": [
    "from mlflow.models import infer_signature\n",
    "from mlflow.utils.environment import _mlflow_conda_env"
   ]
  },
  {
   "cell_type": "code",
   "execution_count": null,
   "id": "a3e59570-8855-4e25-aeaf-99f75d4d311b",
   "metadata": {
    "tags": []
   },
   "outputs": [],
   "source": [
    "# Conda environment\n",
    "custom_env =_mlflow_conda_env(\n",
    "    additional_conda_deps=None,\n",
    "    additional_pip_deps=None,\n",
    "    additional_conda_channels=None,\n",
    ")"
   ]
  },
  {
   "cell_type": "code",
   "execution_count": null,
   "id": "64665b2a-d19e-4039-b6a6-707acb05d32f",
   "metadata": {},
   "outputs": [],
   "source": [
    "# Log the model manually\n",
    "mlflow.xgboost.log_model(model, \n",
    "                         artifact_path=\"classifier\", \n",
    "                         conda_env=custom_env,\n",
    "                         signature=signature,\n",
    "                         )"
   ]
  },
  {
   "cell_type": "code",
   "execution_count": null,
   "id": "5df215b2-612a-49ea-b6ea-fd5d27897340",
   "metadata": {
    "tags": []
   },
   "outputs": [],
   "source": [
    "model.predict('/home/coena98/bottle_recognition/detect-1/valid/images/',stream=True)"
   ]
  },
  {
   "cell_type": "code",
   "execution_count": null,
   "id": "98791834-4106-40ec-b64c-a6f2eb29554f",
   "metadata": {
    "tags": []
   },
   "outputs": [],
   "source": [
    "signature = infer_signature(model_output=model.predict('Untitled.jpeg', save=True))"
   ]
  },
  {
   "cell_type": "code",
   "execution_count": null,
   "id": "c6fcea93",
   "metadata": {},
   "outputs": [],
   "source": [
    "signature "
   ]
  },
  {
   "cell_type": "code",
   "execution_count": null,
   "id": "19b67c49-96a8-4815-b6eb-088e1ec469e5",
   "metadata": {},
   "outputs": [],
   "source": [
    "mlflow."
   ]
  },
  {
   "cell_type": "code",
   "execution_count": null,
   "id": "4b7714f8-9dfc-4ed7-94fd-2d253a117566",
   "metadata": {},
   "outputs": [],
   "source": [
    "# Option 1: Manually construct the signature object\n",
    "input_schema = Schema(\n",
    "    [\n",
    "        UltraSpec(np.dtype(np.float64), (3, 16, 3, 2)),\n",
    "    ]\n",
    ")\n",
    "output_schema = Schema([TensorSpec(np.dtype(np.float32), (-1, 10))])\n",
    "signature = ModelSignature(inputs=input_schema, outputs=output_schema)"
   ]
  },
  {
   "cell_type": "code",
   "execution_count": null,
   "id": "dcd65315-0179-43e5-a2d7-f23f27bf1cfd",
   "metadata": {
    "tags": []
   },
   "outputs": [],
   "source": [
    "mlflow.pytorch.log_model(model, \"yolov8_model\")\n"
   ]
  },
  {
   "cell_type": "code",
   "execution_count": null,
   "id": "f32cd780-a7a0-4d3e-b6b3-d3f8dd686f15",
   "metadata": {
    "tags": []
   },
   "outputs": [],
   "source": [
    "from pprint import pprint\n",
    "\n",
    "pprint(model)"
   ]
  },
  {
   "cell_type": "code",
   "execution_count": null,
   "id": "23690046-103b-4ed6-b8ac-0252f081e999",
   "metadata": {
    "tags": []
   },
   "outputs": [],
   "source": [
    "#mlflow.pytorch.get_default_conda_env()\n"
   ]
  },
  {
   "cell_type": "code",
   "execution_count": null,
   "id": "1f3887f2-45d1-4509-ab63-71aaebe23144",
   "metadata": {
    "tags": []
   },
   "outputs": [],
   "source": [
    "model_uri = f\"runs:/{run.info.run_id}/model\"\n",
    "loaded_model = mlflow.pytorch.load_model(model_uri)"
   ]
  },
  {
   "cell_type": "code",
   "execution_count": null,
   "id": "4ec57a03-dcaa-420f-ad34-63423ac6dc2f",
   "metadata": {},
   "outputs": [],
   "source": []
  }
 ],
 "metadata": {
  "kernelspec": {
   "display_name": "Python 3 (ipykernel)",
   "language": "python",
   "name": "python3"
  },
  "language_info": {
   "codemirror_mode": {
    "name": "ipython",
    "version": 3
   },
   "file_extension": ".py",
   "mimetype": "text/x-python",
   "name": "python",
   "nbconvert_exporter": "python",
   "pygments_lexer": "ipython3",
   "version": "3.8.18"
  }
 },
 "nbformat": 4,
 "nbformat_minor": 5
}
